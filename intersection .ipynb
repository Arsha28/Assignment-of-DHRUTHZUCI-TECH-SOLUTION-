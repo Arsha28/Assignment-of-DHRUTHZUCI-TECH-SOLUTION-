{
 "cells": [
  {
   "cell_type": "markdown",
   "metadata": {},
   "source": [
    "# write a function to compute their intersection.\n"
   ]
  },
  {
   "cell_type": "code",
   "execution_count": 31,
   "metadata": {},
   "outputs": [
    {
     "name": "stdout",
     "output_type": "stream",
     "text": [
      "[2]\n"
     ]
    }
   ],
   "source": [
    "\n",
    "\n",
    "#INTERSECTION \n",
    "\n",
    "arr1 = [1,2,2,1]\n",
    "arr2 = [2,2]\n",
    "\n",
    "def ins(arr1,arr2):\n",
    "    out = []\n",
    "    arr3 = [value for value in arr1 if value in arr2]\n",
    "    for i in arr3:\n",
    "        if i not in out:\n",
    "            out.append(i)\n",
    "    return out\n",
    "        \n",
    "print(ins(arr1,arr2))\n"
   ]
  },
  {
   "cell_type": "markdown",
   "metadata": {},
   "source": [
    "# Given a string containing just the characters '(', ')', '{', '}', '[' and ']', determine if the input string is valid.\n",
    "An input string is valid if:\n",
    "Open brackets must be closed by the same type of brackets.\n",
    "Open brackets must be closed in the correct order.\n",
    "Note that an empty string is also considered valid.\n"
   ]
  },
  {
   "cell_type": "code",
   "execution_count": 30,
   "metadata": {},
   "outputs": [
    {
     "name": "stdout",
     "output_type": "stream",
     "text": [
      "False\n",
      "True\n"
     ]
    }
   ],
   "source": [
    "\n",
    "def match(arr):\n",
    "    stack =[]\n",
    "    for i in arr:\n",
    "        if i in open_list:\n",
    "            stack.append(i)\n",
    "        elif i in close_list:\n",
    "            pos= close_list.index(i)\n",
    "            if ((len(stack)>0) and (open_list[pos]== stack[len(stack)-1])):\n",
    "                stack.pop()\n",
    "            else:\n",
    "                return False\n",
    "    if len(stack)==0:\n",
    "        return True\n",
    "    else:\n",
    "        return False\n",
    "       \n",
    "        \n",
    "    \n",
    "    \n",
    "\n",
    "open_list = [\"[\",\"{\",\"(\"] \n",
    "close_list = [\"]\",\"}\",\")\"] \n",
    "\n",
    "arr =['(',')','{',']']\n",
    "print(match(arr))\n",
    "arr =[]\n",
    "print(match(arr))\n",
    "\n"
   ]
  },
  {
   "cell_type": "markdown",
   "metadata": {},
   "source": [
    "\n",
    "# Given a non-empty array of integers, every element appears twice except for one. Find that single one.\n",
    "Note:\n",
    "Your algorithm should have a linear runtime complexity. Could you implement it without using extra memory?\n"
   ]
  },
  {
   "cell_type": "code",
   "execution_count": 32,
   "metadata": {},
   "outputs": [
    {
     "name": "stdout",
     "output_type": "stream",
     "text": [
      "1\n"
     ]
    }
   ],
   "source": [
    "def sig(arr, n):\n",
    "    out = arr[0]\n",
    "    for i in range(1,n):\n",
    "        out = out ^ arr[i]\n",
    "    return out\n",
    "arr = [2,2,1]\n",
    "print(sig(arr,len(arr)))"
   ]
  },
  {
   "cell_type": "code",
   "execution_count": null,
   "metadata": {},
   "outputs": [],
   "source": []
  }
 ],
 "metadata": {
  "kernelspec": {
   "display_name": "Python 3",
   "language": "python",
   "name": "python3"
  },
  "language_info": {
   "codemirror_mode": {
    "name": "ipython",
    "version": 3
   },
   "file_extension": ".py",
   "mimetype": "text/x-python",
   "name": "python",
   "nbconvert_exporter": "python",
   "pygments_lexer": "ipython3",
   "version": "3.8.5"
  }
 },
 "nbformat": 4,
 "nbformat_minor": 4
}
